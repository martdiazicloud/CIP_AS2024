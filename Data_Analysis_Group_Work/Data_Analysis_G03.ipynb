{
 "cells": [
  {
   "cell_type": "markdown",
   "id": "bdea0c29-ad31-4e84-89cc-d65f023bd82a",
   "metadata": {},
   "source": [
    "# Web Scraping Supermarkets Analysis (Group Work)\n",
    "---"
   ]
  },
  {
   "cell_type": "code",
   "execution_count": 2,
   "id": "e5679435-5bad-4a1a-bfe0-d9c1ded73e75",
   "metadata": {},
   "outputs": [],
   "source": [
    "# Packages\n",
    "import pandas as pd"
   ]
  },
  {
   "cell_type": "markdown",
   "id": "4706e5ff-0b66-4e37-8cc8-1326e9f47e9b",
   "metadata": {},
   "source": [
    "The first step is to merge the three different CSV files provided by each group member."
   ]
  },
  {
   "cell_type": "code",
   "execution_count": 5,
   "id": "bb17eaad-1c36-43f6-9d07-af911dc4a2ce",
   "metadata": {},
   "outputs": [
    {
     "name": "stdout",
     "output_type": "stream",
     "text": [
      "<class 'pandas.core.frame.DataFrame'>\n",
      "RangeIndex: 297 entries, 0 to 296\n",
      "Data columns (total 14 columns):\n",
      " #   Column               Non-Null Count  Dtype  \n",
      "---  ------               --------------  -----  \n",
      " 0   ID                   297 non-null    int64  \n",
      " 1   Competitor           297 non-null    object \n",
      " 2   Category             297 non-null    object \n",
      " 3   Product_Description  297 non-null    object \n",
      " 4   Brand                297 non-null    object \n",
      " 5   Regular_Price (CHF)  297 non-null    float64\n",
      " 6   Grammage             297 non-null    float64\n",
      " 7   Unit                 297 non-null    object \n",
      " 8   Link                 297 non-null    object \n",
      " 9   Scraping_Date        297 non-null    object \n",
      " 10  Discount             297 non-null    object \n",
      " 11  Actual_Price (CHF)   297 non-null    float64\n",
      " 12  Regular_Price/Unit   297 non-null    float64\n",
      " 13  Actual_Price/Unit    297 non-null    float64\n",
      "dtypes: float64(5), int64(1), object(8)\n",
      "memory usage: 32.6+ KB\n"
     ]
    }
   ],
   "source": [
    "# Extract columns of interest for each csv\n",
    "columns_interest = [\n",
    "    'ID', 'Competitor', 'Category', 'Product_Description', 'Brand', \n",
    "    'Regular_Price (CHF)', 'Grammage', 'Unit', 'Link', 'Scraping_Date', \n",
    "    'Discount', 'Actual_Price (CHF)', 'Regular_Price/Unit', 'Actual_Price/Unit']\n",
    "\n",
    "# Load each CSV file\n",
    "df1 = pd.read_csv('Final_Scraping_Merged_Pasta.csv', usecols = columns_interest) # Catalina Roth DF\n",
    "df2 = pd.read_csv('pasta_sauces_merged.csv', usecols = columns_interest) # Martina Diaz DF\n",
    "df3 = pd.read_csv('RiceData_Cleaned_Transformed_GroupProject.csv', usecols = columns_interest) #Fatima Barcina DF\n",
    "\n",
    "# Concatenate the DataFrames\n",
    "df = pd.concat([df1, df2, df3], ignore_index=True)\n",
    "\n",
    "# Visualize Dtype\n",
    "df.info()"
   ]
  }
 ],
 "metadata": {
  "kernelspec": {
   "display_name": "Python 3 (ipykernel)",
   "language": "python",
   "name": "python3"
  },
  "language_info": {
   "codemirror_mode": {
    "name": "ipython",
    "version": 3
   },
   "file_extension": ".py",
   "mimetype": "text/x-python",
   "name": "python",
   "nbconvert_exporter": "python",
   "pygments_lexer": "ipython3",
   "version": "3.11.7"
  }
 },
 "nbformat": 4,
 "nbformat_minor": 5
}

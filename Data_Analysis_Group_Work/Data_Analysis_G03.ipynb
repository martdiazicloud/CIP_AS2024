{
 "cells": [
  {
   "cell_type": "markdown",
   "id": "bdea0c29-ad31-4e84-89cc-d65f023bd82a",
   "metadata": {},
   "source": [
    "# Web Scraping Supermarkets Analysis (Group Work)\n",
    "---"
   ]
  },
  {
   "cell_type": "code",
   "execution_count": 33,
   "id": "e5679435-5bad-4a1a-bfe0-d9c1ded73e75",
   "metadata": {},
   "outputs": [
    {
     "ename": "ModuleNotFoundError",
     "evalue": "No module named 'ace_tools'",
     "output_type": "error",
     "traceback": [
      "\u001b[1;31m---------------------------------------------------------------------------\u001b[0m",
      "\u001b[1;31mModuleNotFoundError\u001b[0m                       Traceback (most recent call last)",
      "Cell \u001b[1;32mIn[33], line 5\u001b[0m\n\u001b[0;32m      3\u001b[0m \u001b[38;5;28;01mimport\u001b[39;00m \u001b[38;5;21;01mmatplotlib\u001b[39;00m\u001b[38;5;21;01m.\u001b[39;00m\u001b[38;5;21;01mpyplot\u001b[39;00m \u001b[38;5;28;01mas\u001b[39;00m \u001b[38;5;21;01mplt\u001b[39;00m\n\u001b[0;32m      4\u001b[0m \u001b[38;5;28;01mimport\u001b[39;00m \u001b[38;5;21;01mseaborn\u001b[39;00m \u001b[38;5;28;01mas\u001b[39;00m \u001b[38;5;21;01msns\u001b[39;00m\n\u001b[1;32m----> 5\u001b[0m \u001b[38;5;28;01mimport\u001b[39;00m \u001b[38;5;21;01mace_tools\u001b[39;00m \u001b[38;5;28;01mas\u001b[39;00m \u001b[38;5;21;01mtools\u001b[39;00m\n",
      "\u001b[1;31mModuleNotFoundError\u001b[0m: No module named 'ace_tools'"
     ]
    }
   ],
   "source": [
    "# Packages\n",
    "import pandas as pd\n",
    "import matplotlib.pyplot as plt\n",
    "import seaborn as sns"
   ]
  },
  {
   "cell_type": "markdown",
   "id": "4706e5ff-0b66-4e37-8cc8-1326e9f47e9b",
   "metadata": {},
   "source": [
    "The first step is to merge the three different CSV files provided by each group member."
   ]
  },
  {
   "cell_type": "code",
   "execution_count": 7,
   "id": "bb17eaad-1c36-43f6-9d07-af911dc4a2ce",
   "metadata": {},
   "outputs": [
    {
     "name": "stdout",
     "output_type": "stream",
     "text": [
      "<class 'pandas.core.frame.DataFrame'>\n",
      "RangeIndex: 297 entries, 0 to 296\n",
      "Data columns (total 14 columns):\n",
      " #   Column               Non-Null Count  Dtype  \n",
      "---  ------               --------------  -----  \n",
      " 0   ID                   297 non-null    int64  \n",
      " 1   Competitor           297 non-null    object \n",
      " 2   Category             297 non-null    object \n",
      " 3   Product_Description  297 non-null    object \n",
      " 4   Brand                297 non-null    object \n",
      " 5   Regular_Price (CHF)  297 non-null    float64\n",
      " 6   Grammage             297 non-null    float64\n",
      " 7   Unit                 297 non-null    object \n",
      " 8   Link                 297 non-null    object \n",
      " 9   Scraping_Date        297 non-null    object \n",
      " 10  Discount             297 non-null    object \n",
      " 11  Actual_Price (CHF)   297 non-null    float64\n",
      " 12  Regular_Price/Unit   297 non-null    float64\n",
      " 13  Actual_Price/Unit    297 non-null    float64\n",
      "dtypes: float64(5), int64(1), object(8)\n",
      "memory usage: 32.6+ KB\n"
     ]
    },
    {
     "data": {
      "text/html": [
       "<div>\n",
       "<style scoped>\n",
       "    .dataframe tbody tr th:only-of-type {\n",
       "        vertical-align: middle;\n",
       "    }\n",
       "\n",
       "    .dataframe tbody tr th {\n",
       "        vertical-align: top;\n",
       "    }\n",
       "\n",
       "    .dataframe thead th {\n",
       "        text-align: right;\n",
       "    }\n",
       "</style>\n",
       "<table border=\"1\" class=\"dataframe\">\n",
       "  <thead>\n",
       "    <tr style=\"text-align: right;\">\n",
       "      <th></th>\n",
       "      <th>ID</th>\n",
       "      <th>Competitor</th>\n",
       "      <th>Category</th>\n",
       "      <th>Product_Description</th>\n",
       "      <th>Brand</th>\n",
       "      <th>Regular_Price (CHF)</th>\n",
       "      <th>Grammage</th>\n",
       "      <th>Unit</th>\n",
       "      <th>Link</th>\n",
       "      <th>Scraping_Date</th>\n",
       "      <th>Discount</th>\n",
       "      <th>Actual_Price (CHF)</th>\n",
       "      <th>Regular_Price/Unit</th>\n",
       "      <th>Actual_Price/Unit</th>\n",
       "    </tr>\n",
       "  </thead>\n",
       "  <tbody>\n",
       "    <tr>\n",
       "      <th>0</th>\n",
       "      <td>1</td>\n",
       "      <td>Migros</td>\n",
       "      <td>Pasta</td>\n",
       "      <td>Agnesi  lasagne  with eggs</td>\n",
       "      <td>Agnesi</td>\n",
       "      <td>3.95</td>\n",
       "      <td>0.50</td>\n",
       "      <td>kg</td>\n",
       "      <td>https://www.migros.ch/en/product/104066400000</td>\n",
       "      <td>19/10/2024</td>\n",
       "      <td>no discount</td>\n",
       "      <td>3.95</td>\n",
       "      <td>7.9</td>\n",
       "      <td>7.9</td>\n",
       "    </tr>\n",
       "    <tr>\n",
       "      <th>1</th>\n",
       "      <td>2</td>\n",
       "      <td>Migros</td>\n",
       "      <td>Pasta</td>\n",
       "      <td>M-Classic  tortellini  with raw ham</td>\n",
       "      <td>M-Classic</td>\n",
       "      <td>2.50</td>\n",
       "      <td>0.25</td>\n",
       "      <td>kg</td>\n",
       "      <td>https://www.migros.ch/en/product/104075000000</td>\n",
       "      <td>19/10/2024</td>\n",
       "      <td>12%</td>\n",
       "      <td>2.20</td>\n",
       "      <td>10.0</td>\n",
       "      <td>8.8</td>\n",
       "    </tr>\n",
       "    <tr>\n",
       "      <th>2</th>\n",
       "      <td>3</td>\n",
       "      <td>Migros</td>\n",
       "      <td>Pasta</td>\n",
       "      <td>M-Classic  älplermagronen  with eggs</td>\n",
       "      <td>M-Classic</td>\n",
       "      <td>1.90</td>\n",
       "      <td>0.50</td>\n",
       "      <td>kg</td>\n",
       "      <td>https://www.migros.ch/en/product/104074500000</td>\n",
       "      <td>19/10/2024</td>\n",
       "      <td>16%</td>\n",
       "      <td>1.60</td>\n",
       "      <td>3.8</td>\n",
       "      <td>3.2</td>\n",
       "    </tr>\n",
       "    <tr>\n",
       "      <th>3</th>\n",
       "      <td>4</td>\n",
       "      <td>Migros</td>\n",
       "      <td>Pasta</td>\n",
       "      <td>Garofalo  orecchiette</td>\n",
       "      <td>Garofalo</td>\n",
       "      <td>2.95</td>\n",
       "      <td>0.50</td>\n",
       "      <td>kg</td>\n",
       "      <td>https://www.migros.ch/en/product/104126400000</td>\n",
       "      <td>19/10/2024</td>\n",
       "      <td>no discount</td>\n",
       "      <td>2.95</td>\n",
       "      <td>5.9</td>\n",
       "      <td>5.9</td>\n",
       "    </tr>\n",
       "    <tr>\n",
       "      <th>4</th>\n",
       "      <td>5</td>\n",
       "      <td>Migros</td>\n",
       "      <td>Pasta</td>\n",
       "      <td>Garofalo  rigatoni</td>\n",
       "      <td>Garofalo</td>\n",
       "      <td>2.95</td>\n",
       "      <td>0.50</td>\n",
       "      <td>kg</td>\n",
       "      <td>https://www.migros.ch/en/product/104125200000</td>\n",
       "      <td>19/10/2024</td>\n",
       "      <td>no discount</td>\n",
       "      <td>2.95</td>\n",
       "      <td>5.9</td>\n",
       "      <td>5.9</td>\n",
       "    </tr>\n",
       "  </tbody>\n",
       "</table>\n",
       "</div>"
      ],
      "text/plain": [
       "   ID Competitor Category                   Product_Description      Brand  \\\n",
       "0   1     Migros    Pasta            Agnesi  lasagne  with eggs     Agnesi   \n",
       "1   2     Migros    Pasta   M-Classic  tortellini  with raw ham  M-Classic   \n",
       "2   3     Migros    Pasta  M-Classic  älplermagronen  with eggs  M-Classic   \n",
       "3   4     Migros    Pasta                 Garofalo  orecchiette   Garofalo   \n",
       "4   5     Migros    Pasta                    Garofalo  rigatoni   Garofalo   \n",
       "\n",
       "   Regular_Price (CHF)  Grammage Unit  \\\n",
       "0                 3.95      0.50   kg   \n",
       "1                 2.50      0.25   kg   \n",
       "2                 1.90      0.50   kg   \n",
       "3                 2.95      0.50   kg   \n",
       "4                 2.95      0.50   kg   \n",
       "\n",
       "                                            Link Scraping_Date     Discount  \\\n",
       "0  https://www.migros.ch/en/product/104066400000    19/10/2024  no discount   \n",
       "1  https://www.migros.ch/en/product/104075000000    19/10/2024          12%   \n",
       "2  https://www.migros.ch/en/product/104074500000    19/10/2024          16%   \n",
       "3  https://www.migros.ch/en/product/104126400000    19/10/2024  no discount   \n",
       "4  https://www.migros.ch/en/product/104125200000    19/10/2024  no discount   \n",
       "\n",
       "   Actual_Price (CHF)  Regular_Price/Unit  Actual_Price/Unit  \n",
       "0                3.95                 7.9                7.9  \n",
       "1                2.20                10.0                8.8  \n",
       "2                1.60                 3.8                3.2  \n",
       "3                2.95                 5.9                5.9  \n",
       "4                2.95                 5.9                5.9  "
      ]
     },
     "execution_count": 7,
     "metadata": {},
     "output_type": "execute_result"
    }
   ],
   "source": [
    "# Extract columns of interest for each csv\n",
    "columns_interest = [\n",
    "    'ID', 'Competitor', 'Category', 'Product_Description', 'Brand', \n",
    "    'Regular_Price (CHF)', 'Grammage', 'Unit', 'Link', 'Scraping_Date', \n",
    "    'Discount', 'Actual_Price (CHF)', 'Regular_Price/Unit', 'Actual_Price/Unit']\n",
    "\n",
    "# Load each CSV file\n",
    "df1 = pd.read_csv('Final_Scraping_Merged_Pasta.csv', usecols = columns_interest, encoding='utf-8') # Catalina Roth DF\n",
    "df2 = pd.read_csv('pasta_sauces_merged.csv', usecols = columns_interest, encoding='utf-8') # Martina Diaz DF\n",
    "df3 = pd.read_csv('RiceData_Cleaned_Transformed_GroupProject.csv', usecols = columns_interest, encoding='utf-8') #Fatima Barcina DF\n",
    "\n",
    "# Concatenate the DataFrames\n",
    "df = pd.concat([df1, df2, df3], ignore_index=True)\n",
    "\n",
    "# Visualize Dtype\n",
    "df.info()\n",
    "df.head()"
   ]
  },
  {
   "cell_type": "markdown",
   "id": "eff602a7-9268-41df-bd9e-3fd0bc84e258",
   "metadata": {},
   "source": [
    "## Exploratory Data Analysis"
   ]
  },
  {
   "cell_type": "markdown",
   "id": "18ea358a-7864-4ff8-84eb-3fb932085445",
   "metadata": {},
   "source": [
    "### 1) Summary Statistics"
   ]
  },
  {
   "cell_type": "code",
   "execution_count": 9,
   "id": "e264818f-5545-45ea-914a-ac4d8471945e",
   "metadata": {},
   "outputs": [
    {
     "name": "stdout",
     "output_type": "stream",
     "text": [
      "                      Mean  Median  Mode   Min     Max\n",
      "ID                   50.81   47.00  1.00  0.00  136.00\n",
      "Regular_Price (CHF)   3.14    2.99  2.95  0.39   10.90\n",
      "Grammage              0.50    0.50  0.50  0.02    4.40\n",
      "Actual_Price (CHF)    3.10    2.95  2.95  0.39   10.90\n",
      "Regular_Price/Unit   10.06    7.00  5.90  1.19   86.36\n",
      "Actual_Price/Unit     9.96    6.90  5.90  1.19   86.36\n"
     ]
    }
   ],
   "source": [
    "def summary_statistics(df):\n",
    "    \n",
    "    # Select only numeric columns for summary statistics\n",
    "    cols = df.select_dtypes(include='number')\n",
    "    \n",
    "    # Calculate statistics\n",
    "    stats = pd.DataFrame({\n",
    "        'Mean': round(cols.mean(), 2),\n",
    "        'Median': round(cols.median(), 2),\n",
    "        'Mode': round(cols.mode().iloc[0], 2),\n",
    "        'Min': round(cols.min(), 2),\n",
    "        'Max': round(cols.max(), 2)\n",
    "    })\n",
    "    \n",
    "    return stats\n",
    "\n",
    "# Call the function and display the summary statistics\n",
    "summary_stats = summary_statistics(df)\n",
    "print(summary_stats)"
   ]
  },
  {
   "cell_type": "markdown",
   "id": "4fc0c9d7-7ac9-4f74-8dde-4394a88d7beb",
   "metadata": {},
   "source": [
    "### 2) Boxplots"
   ]
  },
  {
   "cell_type": "code",
   "execution_count": 12,
   "id": "90d8e27b-c43f-45d0-aeb4-ee6702f2022a",
   "metadata": {},
   "outputs": [
    {
     "data": {
      "image/png": "[encoded data removed]",
      "text/plain": [
       "<Figure size 1100x500 with 2 Axes>"
      ]
     },
     "metadata": {},
     "output_type": "display_data"
    }
   ],
   "source": [
    "# Define your variables to avoid conflict with the built-in 'vars'\n",
    "variables = ['Regular_Price (CHF)', 'Actual_Price (CHF)']  # Adjust to your actual column names\n",
    "\n",
    "# Set up subplots\n",
    "fig, axes = plt.subplots(1, 2, figsize=(11, 5))  # boxplot size\n",
    "\n",
    "# Plot a boxplot for each variable, grouped by category\n",
    "for i, var in enumerate(variables):\n",
    "    sns.boxplot(data=df, x='Category', y=var, ax=axes[i], palette='coolwarm')\n",
    "    axes[i].set_title(f'{var} by Category')\n",
    "    axes[i].set_ylabel(var)\n",
    "    \n",
    "    # Calculate median and IQR\n",
    "    for category in df['Category'].unique():\n",
    "        category_data = df[df['Category'] == category][var].dropna()\n",
    "        median = category_data.median()\n",
    "        q1 = category_data.quantile(0.25)\n",
    "        q3 = category_data.quantile(0.75)\n",
    "        \n",
    "        # Get position for annotation\n",
    "        pos = df['Category'].unique().tolist().index(category)\n",
    "        \n",
    "        # Annotate median and IQR\n",
    "        axes[i].text(pos, median, f'Median: {median:.2f}', ha='center', va='bottom', fontsize=8, color='black')\n",
    "        axes[i].text(pos, q1, f'Q1: {q1:.2f}', ha='center', va='bottom', fontsize=8, color='black')\n",
    "        axes[i].text(pos, q3, f'Q3: {q3:.2f}', ha='center', va='top', fontsize=8, color='black')\n",
    "    \n",
    "# Prevent Overlap\n",
    "plt.tight_layout()\n",
    "\n",
    "# Add Title\n",
    "# plt.suptitle('Boxplots for Prices per Category', fontsize=14, y=1.05)\n",
    "\n",
    "# Display plot\n",
    "plt.show()\n"
   ]
  },
  {
   "cell_type": "markdown",
   "id": "82685c97-c155-4d70-b947-0f45b09c3772",
   "metadata": {},
   "source": [
    "## Results"
   ]
  },
  {
   "cell_type": "markdown",
   "id": "63639acf-3eba-4e03-8c12-866181cb91e2",
   "metadata": {},
   "source": [
    "### 1) Plot for the Gap Price between Private Label and Third Brand"
   ]
  },
  {
   "cell_type": "markdown",
   "id": "5a35f2a2-fc1d-4c10-8211-b77ec78ee84b",
   "metadata": {},
   "source": [
    "A Column named \" Private Label Product\" is created in order to compare its price with third brands."
   ]
  },
  {
   "cell_type": "code",
   "execution_count": 15,
   "id": "02291c1d-8548-4595-848a-169b639ba13e",
   "metadata": {},
   "outputs": [],
   "source": [
    "# Defining Private Labels for Lidl and Migros\n",
    "private_label_migros = [\"M-Classic\",\n",
    "    \"Migros Bio\",\n",
    "    \"Aha!\",\n",
    "    \"SÉlection\",\n",
    "    \"M-Budget\",\n",
    "    \"V-Love\",\n",
    "    \"Aus der Region\"]\n",
    "\n",
    "private_label_lidl = [\"Combino\",\n",
    "    \"Italiamo\",\n",
    "    \"Golden Sun\",\n",
    "    \"Baresa\",\n",
    "    \"Kania\",\n",
    "    \"Freshona\",\n",
    "    \"Vemondo\",\n",
    "    \"Deluxe\"]\n",
    "\n",
    "# Function to create private label flag\n",
    "def private_label(df):\n",
    "    df['Private_Label_Product'] = df['Brand'].apply(lambda x: 'Yes' if x in private_label_migros or x in private_label_lidl else 'No')\n",
    "    return df['Private_Label_Product']\n",
    "\n",
    "# Calling the Function private_label\n",
    "df_private_label = df.copy()\n",
    "df_private_label['Private_Label_Product'] = private_label(df_private_label)\n",
    "\n",
    "# Save to CSV\n",
    "#df1 = df_private_label.to_csv(f\"~/Desktop/Private_Label.csv\", index = False)\n"
   ]
  },
  {
   "cell_type": "code",
   "execution_count": 49,
   "id": "3add3cfc-37e8-4233-92cf-4aba801137df",
   "metadata": {},
   "outputs": [
    {
     "name": "stdout",
     "output_type": "stream",
     "text": [
      "  Competitor      Category    No   Yes\n",
      "0       Lidl         Pasta   6.0  21.0\n",
      "1       Lidl          Rice   3.0   7.0\n",
      "2     Migros         Pasta  60.0  21.0\n",
      "3     Migros  Pasta Sauces  75.0  10.0\n",
      "4     Migros          Rice  50.0  16.0\n",
      "5       lidl  Pasta Sauces   5.0  23.0\n"
     ]
    }
   ],
   "source": [
    "# Group by Competitor, Category, and Private_Label_Product to count the occurrences\n",
    "private_label_counts = df_private_label.groupby(['Competitor', 'Category', 'Private_Label_Product']).size().reset_index(name='Count') #Add Count Column\n",
    "#print(private_label_counts)\n",
    "\n",
    "# Pivot the table to make 'Yes' and 'No' counts as separate columns\n",
    "pivot_table = private_label_counts.pivot_table(index=['Competitor', 'Category'], columns='Private_Label_Product', values='Count', fill_value=0)\n",
    "#print(pivot_table) #Yes/no becomes columns\n",
    "\n",
    "# Rename columns for clarity\n",
    "pivot_table.columns = ['No', 'Yes']\n",
    "pivot_table = pivot_table.reset_index() # turnes Competitor and Category from index levels into regular columns.\n",
    "\n",
    "print(pivot_table)\n",
    "\n"
   ]
  }
 ],
 "metadata": {
  "kernelspec": {
   "display_name": "Python 3 (ipykernel)",
   "language": "python",
   "name": "python3"
  },
  "language_info": {
   "codemirror_mode": {
    "name": "ipython",
    "version": 3
   },
   "file_extension": ".py",
   "mimetype": "text/x-python",
   "name": "python",
   "nbconvert_exporter": "python",
   "pygments_lexer": "ipython3",
   "version": "3.11.7"
  }
 },
 "nbformat": 4,
 "nbformat_minor": 5
}
